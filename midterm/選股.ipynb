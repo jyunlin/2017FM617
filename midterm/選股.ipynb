{
 "cells": [
  {
   "cell_type": "code",
   "execution_count": 1,
   "metadata": {
    "collapsed": true
   },
   "outputs": [],
   "source": [
    "import pandas as pd"
   ]
  },
  {
   "cell_type": "code",
   "execution_count": 2,
   "metadata": {
    "collapsed": true
   },
   "outputs": [],
   "source": [
    "# 取得公司資料\n",
    "def get_companies(ex = \"NASDAQ\"):\n",
    "    template = \"http://www.nasdaq.com/screening/companies-by-industry.aspx?exchange={}&render=download\"\n",
    "    url = template.format(ex)\n",
    "    return pd.read_csv(url)"
   ]
  },
  {
   "cell_type": "code",
   "execution_count": 3,
   "metadata": {
    "collapsed": true
   },
   "outputs": [],
   "source": [
    "df = get_companies()"
   ]
  },
  {
   "cell_type": "code",
   "execution_count": 4,
   "metadata": {},
   "outputs": [
    {
     "data": {
      "text/html": [
       "<div>\n",
       "<style>\n",
       "    .dataframe thead tr:only-child th {\n",
       "        text-align: right;\n",
       "    }\n",
       "\n",
       "    .dataframe thead th {\n",
       "        text-align: left;\n",
       "    }\n",
       "\n",
       "    .dataframe tbody tr th {\n",
       "        vertical-align: top;\n",
       "    }\n",
       "</style>\n",
       "<table border=\"1\" class=\"dataframe\">\n",
       "  <thead>\n",
       "    <tr style=\"text-align: right;\">\n",
       "      <th></th>\n",
       "      <th>Symbol</th>\n",
       "      <th>Name</th>\n",
       "      <th>LastSale</th>\n",
       "      <th>MarketCap</th>\n",
       "      <th>ADR TSO</th>\n",
       "      <th>IPOyear</th>\n",
       "      <th>Sector</th>\n",
       "      <th>Industry</th>\n",
       "      <th>Summary Quote</th>\n",
       "      <th>Unnamed: 9</th>\n",
       "    </tr>\n",
       "  </thead>\n",
       "  <tbody>\n",
       "    <tr>\n",
       "      <th>0</th>\n",
       "      <td>PIH</td>\n",
       "      <td>1347 Property Insurance Holdings, Inc.</td>\n",
       "      <td>7.45</td>\n",
       "      <td>4.458651e+07</td>\n",
       "      <td>n/a</td>\n",
       "      <td>2014</td>\n",
       "      <td>Finance</td>\n",
       "      <td>Property-Casualty Insurers</td>\n",
       "      <td>http://www.nasdaq.com/symbol/pih</td>\n",
       "      <td>NaN</td>\n",
       "    </tr>\n",
       "    <tr>\n",
       "      <th>1</th>\n",
       "      <td>TURN</td>\n",
       "      <td>180 Degree Capital Corp.</td>\n",
       "      <td>2</td>\n",
       "      <td>6.224312e+07</td>\n",
       "      <td>n/a</td>\n",
       "      <td>n/a</td>\n",
       "      <td>Finance</td>\n",
       "      <td>Finance/Investors Services</td>\n",
       "      <td>http://www.nasdaq.com/symbol/turn</td>\n",
       "      <td>NaN</td>\n",
       "    </tr>\n",
       "    <tr>\n",
       "      <th>2</th>\n",
       "      <td>FLWS</td>\n",
       "      <td>1-800 FLOWERS.COM, Inc.</td>\n",
       "      <td>10.6</td>\n",
       "      <td>6.850193e+08</td>\n",
       "      <td>n/a</td>\n",
       "      <td>1999</td>\n",
       "      <td>Consumer Services</td>\n",
       "      <td>Other Specialty Stores</td>\n",
       "      <td>http://www.nasdaq.com/symbol/flws</td>\n",
       "      <td>NaN</td>\n",
       "    </tr>\n",
       "    <tr>\n",
       "      <th>3</th>\n",
       "      <td>FCCY</td>\n",
       "      <td>1st Constitution Bancorp (NJ)</td>\n",
       "      <td>18.35</td>\n",
       "      <td>1.481424e+08</td>\n",
       "      <td>n/a</td>\n",
       "      <td>n/a</td>\n",
       "      <td>Finance</td>\n",
       "      <td>Savings Institutions</td>\n",
       "      <td>http://www.nasdaq.com/symbol/fccy</td>\n",
       "      <td>NaN</td>\n",
       "    </tr>\n",
       "    <tr>\n",
       "      <th>4</th>\n",
       "      <td>SRCE</td>\n",
       "      <td>1st Source Corporation</td>\n",
       "      <td>50.95</td>\n",
       "      <td>1.321446e+09</td>\n",
       "      <td>n/a</td>\n",
       "      <td>n/a</td>\n",
       "      <td>Finance</td>\n",
       "      <td>Major Banks</td>\n",
       "      <td>http://www.nasdaq.com/symbol/srce</td>\n",
       "      <td>NaN</td>\n",
       "    </tr>\n",
       "  </tbody>\n",
       "</table>\n",
       "</div>"
      ],
      "text/plain": [
       "  Symbol                                    Name LastSale     MarketCap  \\\n",
       "0    PIH  1347 Property Insurance Holdings, Inc.     7.45  4.458651e+07   \n",
       "1   TURN                180 Degree Capital Corp.        2  6.224312e+07   \n",
       "2   FLWS                 1-800 FLOWERS.COM, Inc.     10.6  6.850193e+08   \n",
       "3   FCCY           1st Constitution Bancorp (NJ)    18.35  1.481424e+08   \n",
       "4   SRCE                  1st Source Corporation    50.95  1.321446e+09   \n",
       "\n",
       "  ADR TSO IPOyear             Sector                    Industry  \\\n",
       "0     n/a    2014            Finance  Property-Casualty Insurers   \n",
       "1     n/a     n/a            Finance  Finance/Investors Services   \n",
       "2     n/a    1999  Consumer Services      Other Specialty Stores   \n",
       "3     n/a     n/a            Finance        Savings Institutions   \n",
       "4     n/a     n/a            Finance                 Major Banks   \n",
       "\n",
       "                       Summary Quote  Unnamed: 9  \n",
       "0   http://www.nasdaq.com/symbol/pih         NaN  \n",
       "1  http://www.nasdaq.com/symbol/turn         NaN  \n",
       "2  http://www.nasdaq.com/symbol/flws         NaN  \n",
       "3  http://www.nasdaq.com/symbol/fccy         NaN  \n",
       "4  http://www.nasdaq.com/symbol/srce         NaN  "
      ]
     },
     "execution_count": 4,
     "metadata": {},
     "output_type": "execute_result"
    }
   ],
   "source": [
    "df.head()"
   ]
  },
  {
   "cell_type": "code",
   "execution_count": 7,
   "metadata": {},
   "outputs": [],
   "source": [
    "symbols_01 = df[(df['MarketCap'] > 1e8) & (df['MarketCap'] < 2e8)]['Symbol'].tolist()"
   ]
  },
  {
   "cell_type": "code",
   "execution_count": 11,
   "metadata": {},
   "outputs": [],
   "source": [
    "df['LastSale'] = df['LastSale'].str.replace('n/a', '0.0').astype(float)"
   ]
  },
  {
   "cell_type": "code",
   "execution_count": 13,
   "metadata": {},
   "outputs": [],
   "source": [
    "symbols_02 = df[(df['LastSale'] > 5) & (df['LastSale'] < 10)]['Symbol'].tolist()"
   ]
  },
  {
   "cell_type": "code",
   "execution_count": 14,
   "metadata": {
    "collapsed": true
   },
   "outputs": [],
   "source": [
    "with open('symbols01.txt', 'w') as f:\n",
    "    for symbol in symbols_01:\n",
    "        f.write(symbol.strip().upper() + \"\\n\")"
   ]
  },
  {
   "cell_type": "code",
   "execution_count": 15,
   "metadata": {
    "collapsed": true
   },
   "outputs": [],
   "source": [
    "with open('symbols02.txt', 'w') as f:\n",
    "    for symbol in symbols_02:\n",
    "        f.write(symbol.strip().upper() + \"\\n\")"
   ]
  },
  {
   "cell_type": "code",
   "execution_count": 16,
   "metadata": {
    "collapsed": true
   },
   "outputs": [],
   "source": [
    "set_01 = set(symbols_01)"
   ]
  },
  {
   "cell_type": "code",
   "execution_count": 17,
   "metadata": {
    "collapsed": true
   },
   "outputs": [],
   "source": [
    "set_02 = set(symbols_02)"
   ]
  },
  {
   "cell_type": "code",
   "execution_count": 18,
   "metadata": {},
   "outputs": [
    {
     "data": {
      "text/plain": [
       "{'ABDC',\n",
       " 'ACFC',\n",
       " 'ADES',\n",
       " 'AKTS',\n",
       " 'ALDX',\n",
       " 'ALLT',\n",
       " 'ASPU',\n",
       " 'ASYS',\n",
       " 'ATTU',\n",
       " 'AUTO',\n",
       " 'BGFV',\n",
       " 'BKEP',\n",
       " 'BRAC',\n",
       " 'BRQS',\n",
       " 'CALL',\n",
       " 'CCLP',\n",
       " 'CDNA',\n",
       " 'CDTX',\n",
       " 'CECE',\n",
       " 'CLSD',\n",
       " 'CLUB',\n",
       " 'CMFN',\n",
       " 'CNAC',\n",
       " 'CPIX',\n",
       " 'CPTA',\n",
       " 'CTSO',\n",
       " 'DRNA',\n",
       " 'DWCH',\n",
       " 'DWSN',\n",
       " 'DZSI',\n",
       " 'EMKR',\n",
       " 'ESXB',\n",
       " 'FENC',\n",
       " 'FRED',\n",
       " 'FRSH',\n",
       " 'FTD',\n",
       " 'FUND',\n",
       " 'GARS',\n",
       " 'GFN',\n",
       " 'GLDI',\n",
       " 'GLMD',\n",
       " 'GSIT',\n",
       " 'GSUM',\n",
       " 'GSVC',\n",
       " 'GWRS',\n",
       " 'HAIR',\n",
       " 'HBP',\n",
       " 'HMNY',\n",
       " 'HNRG',\n",
       " 'HWCC',\n",
       " 'HYGS',\n",
       " 'ICLN',\n",
       " 'IDSY',\n",
       " 'IGLD',\n",
       " 'INSE',\n",
       " 'IOTS',\n",
       " 'IVAC',\n",
       " 'IVTY',\n",
       " 'JMBA',\n",
       " 'KBLM',\n",
       " 'KVHI',\n",
       " 'LQDT',\n",
       " 'LYTS',\n",
       " 'MAMS',\n",
       " 'MGEN',\n",
       " 'MIII',\n",
       " 'MNTX',\n",
       " 'NEWA',\n",
       " 'NSSC',\n",
       " 'NSTG',\n",
       " 'NTEC',\n",
       " 'OBLN',\n",
       " 'ORMP',\n",
       " 'OTIC',\n",
       " 'PCMI',\n",
       " 'PCTI',\n",
       " 'PCYO',\n",
       " 'PFSW',\n",
       " 'PRGX',\n",
       " 'PXLW',\n",
       " 'RARX',\n",
       " 'REPH',\n",
       " 'RESN',\n",
       " 'SITO',\n",
       " 'SNDX',\n",
       " 'SORL',\n",
       " 'TNTR',\n",
       " 'VBLT',\n",
       " 'VCEL',\n",
       " 'VEAC',\n",
       " 'VOXX',\n",
       " 'VUZI',\n",
       " 'WATT',\n",
       " 'ZKIN'}"
      ]
     },
     "execution_count": 18,
     "metadata": {},
     "output_type": "execute_result"
    }
   ],
   "source": [
    "set_01 & set_02"
   ]
  }
 ],
 "metadata": {
  "kernelspec": {
   "display_name": "Python 3",
   "language": "python",
   "name": "python3"
  },
  "language_info": {
   "codemirror_mode": {
    "name": "ipython",
    "version": 3
   },
   "file_extension": ".py",
   "mimetype": "text/x-python",
   "name": "python",
   "nbconvert_exporter": "python",
   "pygments_lexer": "ipython3",
   "version": "3.6.2"
  }
 },
 "nbformat": 4,
 "nbformat_minor": 2
}
