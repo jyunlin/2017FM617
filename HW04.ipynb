{
 "cells": [
  {
   "cell_type": "markdown",
   "metadata": {},
   "source": [
    "# Q1. 寫九九乘法表"
   ]
  },
  {
   "cell_type": "code",
   "execution_count": 151,
   "metadata": {},
   "outputs": [
    {
     "name": "stdout",
     "output_type": "stream",
     "text": [
      "1x1=1\t\n",
      "1x1=2\t2x2=2\t\n",
      "1x1=3\t2x2=3\t3x3=3\t\n",
      "1x1=4\t2x2=4\t3x3=4\t4x4=4\t\n",
      "1x1=5\t2x2=5\t3x3=5\t4x4=5\t5x5=5\t\n",
      "1x1=6\t2x2=6\t3x3=6\t4x4=6\t5x5=6\t6x6=6\t\n",
      "1x1=7\t2x2=7\t3x3=7\t4x4=7\t5x5=7\t6x6=7\t7x7=7\t\n",
      "1x1=8\t2x2=8\t3x3=8\t4x4=8\t5x5=8\t6x6=8\t7x7=8\t8x8=8\t\n",
      "1x1=9\t2x2=9\t3x3=9\t4x4=9\t5x5=9\t6x6=9\t7x7=9\t8x8=9\t9x9=9\t\n"
     ]
    }
   ],
   "source": [
    "class multiplicationTable():\n",
    "    def paint(self,n=9): \n",
    "        for row in range(1,n+1):  \n",
    "            for col in range(1,row+1):\n",
    "                print(\"{1}x{0}={2}\\t\".format(row , col , row*col),end='')\n",
    "            print();\n",
    "\n",
    "table = multiplicationTable()\n",
    "table.paint()"
   ]
  },
  {
   "cell_type": "code",
   "execution_count": 204,
   "metadata": {
    "collapsed": true
   },
   "outputs": [],
   "source": [
    "def multiplication_table(m,n):\n",
    "    for i in range(1,10):\n",
    "        for j in range(m,n+1):\n",
    "            print(('%sX%s=%s\\t') % (j,i,i*j),end='')\n",
    "        print(\"\");\n",
    "    print(\"\");"
   ]
  },
  {
   "cell_type": "code",
   "execution_count": 205,
   "metadata": {},
   "outputs": [
    {
     "name": "stdout",
     "output_type": "stream",
     "text": [
      "1X1=1\t2X1=2\t3X1=3\t\n",
      "1X2=2\t2X2=4\t3X2=6\t\n",
      "1X3=3\t2X3=6\t3X3=9\t\n",
      "1X4=4\t2X4=8\t3X4=12\t\n",
      "1X5=5\t2X5=10\t3X5=15\t\n",
      "1X6=6\t2X6=12\t3X6=18\t\n",
      "1X7=7\t2X7=14\t3X7=21\t\n",
      "1X8=8\t2X8=16\t3X8=24\t\n",
      "1X9=9\t2X9=18\t3X9=27\t\n",
      "\n",
      "4X1=4\t5X1=5\t6X1=6\t\n",
      "4X2=8\t5X2=10\t6X2=12\t\n",
      "4X3=12\t5X3=15\t6X3=18\t\n",
      "4X4=16\t5X4=20\t6X4=24\t\n",
      "4X5=20\t5X5=25\t6X5=30\t\n",
      "4X6=24\t5X6=30\t6X6=36\t\n",
      "4X7=28\t5X7=35\t6X7=42\t\n",
      "4X8=32\t5X8=40\t6X8=48\t\n",
      "4X9=36\t5X9=45\t6X9=54\t\n",
      "\n",
      "7X1=7\t8X1=8\t9X1=9\t\n",
      "7X2=14\t8X2=16\t9X2=18\t\n",
      "7X3=21\t8X3=24\t9X3=27\t\n",
      "7X4=28\t8X4=32\t9X4=36\t\n",
      "7X5=35\t8X5=40\t9X5=45\t\n",
      "7X6=42\t8X6=48\t9X6=54\t\n",
      "7X7=49\t8X7=56\t9X7=63\t\n",
      "7X8=56\t8X8=64\t9X8=72\t\n",
      "7X9=63\t8X9=72\t9X9=81\t\n",
      "\n"
     ]
    }
   ],
   "source": [
    "multiplication_table(1,3)\n",
    "multiplication_table(4,6)\n",
    "multiplication_table(7,9)"
   ]
  },
  {
   "cell_type": "code",
   "execution_count": 9,
   "metadata": {},
   "outputs": [
    {
     "name": "stdout",
     "output_type": "stream",
     "text": [
      "----------------------------------------------------------------------\n",
      "1*1=1\t2*1=2\t3*1=3\t4*1=4\t5*1=5\t6*1=6\t7*1=7\t8*1=8\t9*1=9\t\n",
      "1*2=2\t2*2=4\t3*2=6\t4*2=8\t5*2=10\t6*2=12\t7*2=14\t8*2=16\t9*2=18\t\n",
      "1*3=3\t2*3=6\t3*3=9\t4*3=12\t5*3=15\t6*3=18\t7*3=21\t8*3=24\t9*3=27\t\n",
      "1*4=4\t2*4=8\t3*4=12\t4*4=16\t5*4=20\t6*4=24\t7*4=28\t8*4=32\t9*4=36\t\n",
      "1*5=5\t2*5=10\t3*5=15\t4*5=20\t5*5=25\t6*5=30\t7*5=35\t8*5=40\t9*5=45\t\n",
      "1*6=6\t2*6=12\t3*6=18\t4*6=24\t5*6=30\t6*6=36\t7*6=42\t8*6=48\t9*6=54\t\n",
      "1*7=7\t2*7=14\t3*7=21\t4*7=28\t5*7=35\t6*7=42\t7*7=49\t8*7=56\t9*7=63\t\n",
      "1*8=8\t2*8=16\t3*8=24\t4*8=32\t5*8=40\t6*8=48\t7*8=56\t8*8=64\t9*8=72\t\n",
      "1*9=9\t2*9=18\t3*9=27\t4*9=36\t5*9=45\t6*9=54\t7*9=63\t8*9=72\t9*9=81\t\n",
      "----------------------------------------------------------------------\n"
     ]
    }
   ],
   "source": [
    "i = 1\n",
    "print(\"-\" * 70)\n",
    "while i < 10:\n",
    "    n = 1\n",
    "    while n <= 9:\n",
    "        print(\"%d*%d=%d\\t\" % (n,i,i * n), end='')\n",
    "        n += 1\n",
    "    print()\n",
    "    i += 1\n",
    "print(\"-\" * 70)"
   ]
  },
  {
   "cell_type": "markdown",
   "metadata": {},
   "source": [
    "# Q2 畫出金字塔"
   ]
  },
  {
   "cell_type": "code",
   "execution_count": 30,
   "metadata": {
    "collapsed": true
   },
   "outputs": [],
   "source": [
    "def pyramid(rows):\n",
    "    for i in range(rows):\n",
    "        print(' '*(rows-i-1) + '*'*(2*i+1))"
   ]
  },
  {
   "cell_type": "code",
   "execution_count": 31,
   "metadata": {},
   "outputs": [
    {
     "name": "stdout",
     "output_type": "stream",
     "text": [
      "         *\n",
      "        ***\n",
      "       *****\n",
      "      *******\n",
      "     *********\n",
      "    ***********\n",
      "   *************\n",
      "  ***************\n",
      " *****************\n",
      "*******************\n"
     ]
    }
   ],
   "source": [
    "pyramid(10)"
   ]
  },
  {
   "cell_type": "markdown",
   "metadata": {},
   "source": [
    "# Q3 Q1與Q2的函式寫成模組"
   ]
  },
  {
   "cell_type": "code",
   "execution_count": 1,
   "metadata": {
    "collapsed": true
   },
   "outputs": [],
   "source": [
    "import HW04"
   ]
  },
  {
   "cell_type": "code",
   "execution_count": 6,
   "metadata": {},
   "outputs": [
    {
     "name": "stdout",
     "output_type": "stream",
     "text": [
      "1X1=1\t2X1=2\t3X1=3\t\n",
      "1X2=2\t2X2=4\t3X2=6\t\n",
      "1X3=3\t2X3=6\t3X3=9\t\n",
      "1X4=4\t2X4=8\t3X4=12\t\n",
      "1X5=5\t2X5=10\t3X5=15\t\n",
      "1X6=6\t2X6=12\t3X6=18\t\n",
      "1X7=7\t2X7=14\t3X7=21\t\n",
      "1X8=8\t2X8=16\t3X8=24\t\n",
      "1X9=9\t2X9=18\t3X9=27\t\n",
      "\n",
      "4X1=4\t5X1=5\t6X1=6\t\n",
      "4X2=8\t5X2=10\t6X2=12\t\n",
      "4X3=12\t5X3=15\t6X3=18\t\n",
      "4X4=16\t5X4=20\t6X4=24\t\n",
      "4X5=20\t5X5=25\t6X5=30\t\n",
      "4X6=24\t5X6=30\t6X6=36\t\n",
      "4X7=28\t5X7=35\t6X7=42\t\n",
      "4X8=32\t5X8=40\t6X8=48\t\n",
      "4X9=36\t5X9=45\t6X9=54\t\n",
      "\n",
      "7X1=7\t8X1=8\t9X1=9\t\n",
      "7X2=14\t8X2=16\t9X2=18\t\n",
      "7X3=21\t8X3=24\t9X3=27\t\n",
      "7X4=28\t8X4=32\t9X4=36\t\n",
      "7X5=35\t8X5=40\t9X5=45\t\n",
      "7X6=42\t8X6=48\t9X6=54\t\n",
      "7X7=49\t8X7=56\t9X7=63\t\n",
      "7X8=56\t8X8=64\t9X8=72\t\n",
      "7X9=63\t8X9=72\t9X9=81\t\n",
      "\n"
     ]
    }
   ],
   "source": [
    "HW04.multiplication_table(1,3)\n",
    "HW04.multiplication_table(4,6)\n",
    "HW04.multiplication_table(7,9)"
   ]
  },
  {
   "cell_type": "code",
   "execution_count": 2,
   "metadata": {},
   "outputs": [
    {
     "name": "stdout",
     "output_type": "stream",
     "text": [
      "    *\n",
      "   ***\n",
      "  *****\n",
      " *******\n",
      "*********\n"
     ]
    }
   ],
   "source": [
    "HW04.pyramid(5)"
   ]
  },
  {
   "cell_type": "markdown",
   "metadata": {
    "collapsed": true
   },
   "source": [
    "# while 小筆記不是功課"
   ]
  },
  {
   "cell_type": "code",
   "execution_count": 1,
   "metadata": {},
   "outputs": [
    {
     "name": "stdout",
     "output_type": "stream",
     "text": [
      "1 1 2 3 5 8 13 21 34 55 89 "
     ]
    }
   ],
   "source": [
    "a, b = 0, 1\n",
    "while b < 100:\n",
    "    print(b, end=' ')\n",
    "    a, b = b, a + b"
   ]
  }
 ],
 "metadata": {
  "kernelspec": {
   "display_name": "Python 3",
   "language": "python",
   "name": "python3"
  },
  "language_info": {
   "codemirror_mode": {
    "name": "ipython",
    "version": 3
   },
   "file_extension": ".py",
   "mimetype": "text/x-python",
   "name": "python",
   "nbconvert_exporter": "python",
   "pygments_lexer": "ipython3",
   "version": "3.6.2"
  }
 },
 "nbformat": 4,
 "nbformat_minor": 2
}
