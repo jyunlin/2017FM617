{
 "cells": [
  {
   "cell_type": "code",
   "execution_count": 2,
   "metadata": {
    "collapsed": true
   },
   "outputs": [],
   "source": [
    "#載入模組\n",
    "import os"
   ]
  },
  {
   "cell_type": "code",
   "execution_count": 7,
   "metadata": {
    "collapsed": true
   },
   "outputs": [],
   "source": [
    "# 這是main()註解\n",
    "def main():\n",
    "    print('hellow world')"
   ]
  },
  {
   "cell_type": "code",
   "execution_count": 69,
   "metadata": {},
   "outputs": [
    {
     "name": "stdout",
     "output_type": "stream",
     "text": [
      "hellow world\n"
     ]
    }
   ],
   "source": [
    "#當打出main()跑出'hello world'\n",
    "main()"
   ]
  },
  {
   "cell_type": "code",
   "execution_count": 70,
   "metadata": {},
   "outputs": [
    {
     "name": "stdout",
     "output_type": "stream",
     "text": [
      "This is Alice's greeting\n",
      "This is Bob's greeting\n"
     ]
    }
   ],
   "source": [
    "#在print()裡打出'字串'print出來，其中雙引號,單引號皆可。\n",
    "    print(\"This is Alice's greeting\")\n",
    "    print('This is Bob\\'s greeting')"
   ]
  },
  {
   "cell_type": "code",
   "execution_count": 64,
   "metadata": {},
   "outputs": [
    {
     "name": "stdout",
     "output_type": "stream",
     "text": [
      "5 plus 10 is equal to 15\n",
      "foo\n"
     ]
    }
   ],
   "source": [
    "#函式定義\n",
    "foo(5,10)"
   ]
  },
  {
   "cell_type": "code",
   "execution_count": 66,
   "metadata": {},
   "outputs": [
    {
     "name": "stdout",
     "output_type": "stream",
     "text": [
      "==========\n"
     ]
    }
   ],
   "source": [
    "#將\"=\"符號弄成字串形式，將他乘10後如以下\n",
    "print('='*10)"
   ]
  },
  {
   "cell_type": "code",
   "execution_count": 33,
   "metadata": {},
   "outputs": [
    {
     "name": "stdout",
     "output_type": "stream",
     "text": [
      "current working directory isC:\\Users\\user\\Desktop\\financepython\\2017FM617\n"
     ]
    }
   ],
   "source": [
    "#正在運行的資料夾並且叫出函數os\n",
    "print('current working directory is'+os.getcwd())"
   ]
  },
  {
   "cell_type": "code",
   "execution_count": 32,
   "metadata": {
    "collapsed": true
   },
   "outputs": [],
   "source": [
    "#變數舉例說明\n",
    "counter = 0\n",
    "counter += 1"
   ]
  },
  {
   "cell_type": "code",
   "execution_count": 40,
   "metadata": {
    "collapsed": true
   },
   "outputs": [],
   "source": [
    "#定義字串\n",
    "food=['apples','oranges','cates']"
   ]
  },
  {
   "cell_type": "code",
   "execution_count": 42,
   "metadata": {},
   "outputs": [
    {
     "name": "stdout",
     "output_type": "stream",
     "text": [
      "I like to eat apples\n",
      "I like to eat oranges\n",
      "I like to eat cates\n"
     ]
    }
   ],
   "source": [
    "#運行for迴圈，i定義為food，並印出 I like to eat i,for i = food\n",
    "for i in food:\n",
    "    print('I like to eat ' + i)"
   ]
  },
  {
   "cell_type": "code",
   "execution_count": 75,
   "metadata": {},
   "outputs": [
    {
     "name": "stdout",
     "output_type": "stream",
     "text": [
      "count to ten\n",
      "0\n",
      "1\n",
      "2\n",
      "3\n",
      "4\n",
      "5\n",
      "6\n",
      "7\n",
      "8\n",
      "9\n"
     ]
    }
   ],
   "source": [
    "#使用for迴圈從0屬到9總共10個數字，i為0~9的10個數字\n",
    "print('count to ten')\n",
    "for i in range(10):\n",
    "    print(i)"
   ]
  },
  {
   "cell_type": "code",
   "execution_count": 90,
   "metadata": {},
   "outputs": [
    {
     "data": {
      "text/plain": [
       "' A multi-line string,but can also be a multi-line comment.'"
      ]
     },
     "execution_count": 90,
     "metadata": {},
     "output_type": "execute_result"
    }
   ],
   "source": [
    "#定義foo(參數1,參數2)，且定義res=參數1+參數2\n",
    "def foo(param1,secondParam):\n",
    "    res = param1 + secondParam\n",
    "    \n",
    "    print(('%s plus %s is equal to %s') % (param1,secondParam,res))\n",
    "    \n",
    "    if res<50:\n",
    "        print('foo')\n",
    "        \n",
    "    elif(res>=50)and((param1 == 42) or (secondParam == 24)):\n",
    "        print('bar')\n",
    "    \n",
    "    else:\n",
    "        print('moo')\n",
    "        \n",
    "    return res #This is a one-line comment.\n",
    "''' A multi-line string,but can also be a multi-line comment.'''        "
   ]
  },
  {
   "cell_type": "code",
   "execution_count": 62,
   "metadata": {},
   "outputs": [
    {
     "name": "stdout",
     "output_type": "stream",
     "text": [
      "50 plus 50 is equal to 100\n",
      "moo\n"
     ]
    }
   ],
   "source": [
    "#例如(param1=50,secondParam=50),則等於 50 plus 50 is equal to 100,由if ,elif,else 函數能知道 res=100為else 其他類\n",
    "foo(param1=50,secondParam=50)"
   ]
  },
  {
   "cell_type": "code",
   "execution_count": 76,
   "metadata": {},
   "outputs": [
    {
     "name": "stdout",
     "output_type": "stream",
     "text": [
      "42 plus 20 is equal to 62\n",
      "bar\n"
     ]
    }
   ],
   "source": [
    "#例如(param1=42,secondParam=20),則等於 42 plus 20 is equal to 62,由if ,elif,else 函數能知道 res>=50且param1=42為elif,print('bar')\n",
    "foo(param1=42,secondParam=20)"
   ]
  },
  {
   "cell_type": "code",
   "execution_count": 9,
   "metadata": {},
   "outputs": [
    {
     "name": "stdout",
     "output_type": "stream",
     "text": [
      "hellow world\n"
     ]
    }
   ],
   "source": [
    "#用 __name__ 就可以分辨我的程式是被 import 當成模組還是被直接執行的,以下直接被執行。\n",
    "if __name__ == \"__main__\":\n",
    "    main()"
   ]
  },
  {
   "cell_type": "code",
   "execution_count": null,
   "metadata": {
    "collapsed": true
   },
   "outputs": [],
   "source": []
  }
 ],
 "metadata": {
  "kernelspec": {
   "display_name": "Python 3",
   "language": "python",
   "name": "python3"
  },
  "language_info": {
   "codemirror_mode": {
    "name": "ipython",
    "version": 3
   },
   "file_extension": ".py",
   "mimetype": "text/x-python",
   "name": "python",
   "nbconvert_exporter": "python",
   "pygments_lexer": "ipython3",
   "version": "3.6.2"
  }
 },
 "nbformat": 4,
 "nbformat_minor": 2
}
