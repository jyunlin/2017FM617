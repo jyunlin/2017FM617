{
 "cells": [
  {
   "cell_type": "code",
   "execution_count": 1,
   "metadata": {
    "collapsed": true
   },
   "outputs": [],
   "source": [
    "import requests\n",
    "from bs4 import BeautifulSoup"
   ]
  },
  {
   "cell_type": "code",
   "execution_count": 2,
   "metadata": {
    "collapsed": true
   },
   "outputs": [],
   "source": [
    "url = \"https://news.cnyes.com/news/id/3966585\""
   ]
  },
  {
   "cell_type": "code",
   "execution_count": 3,
   "metadata": {
    "collapsed": true
   },
   "outputs": [],
   "source": [
    "r = requests.get(url)\n",
    "r.encoding = \"UTF-8\""
   ]
  },
  {
   "cell_type": "code",
   "execution_count": 13,
   "metadata": {},
   "outputs": [],
   "source": [
    "soup = BeautifulSoup(r.text, \"lxml\")\n",
    "news_text = soup.select('div[itemprop=\"articleBody\"]')[0].text"
   ]
  },
  {
   "cell_type": "code",
   "execution_count": 18,
   "metadata": {},
   "outputs": [],
   "source": [
    "import jieba\n",
    "import jieba.analyse"
   ]
  },
  {
   "cell_type": "code",
   "execution_count": 19,
   "metadata": {
    "collapsed": true
   },
   "outputs": [],
   "source": [
    "jieba.set_dictionary('dict.txt.big')"
   ]
  },
  {
   "cell_type": "code",
   "execution_count": 20,
   "metadata": {},
   "outputs": [
    {
     "name": "stderr",
     "output_type": "stream",
     "text": [
      "Building prefix dict from C:\\Users\\user\\Desktop\\financepython\\2017FM617\\dict.txt.big ...\n",
      "Loading model from cache C:\\Users\\user\\AppData\\Local\\Temp\\jieba.u9dac3bb47aadf4c2b900a445699b2ece.cache\n",
      "Loading model cost 4.090 seconds.\n",
      "Prefix dict has been built succesfully.\n"
     ]
    }
   ],
   "source": [
    "keywords = jieba.analyse.extract_tags(news_text, topK=10, withWeight=False)"
   ]
  },
  {
   "cell_type": "code",
   "execution_count": 21,
   "metadata": {},
   "outputs": [
    {
     "name": "stdout",
     "output_type": "stream",
     "text": [
      "騰訊/ 億美元/ 社交/ 中國/ 網路/ 市值/ 臉書/ 週三/ 擁有/ WeChat\n"
     ]
    }
   ],
   "source": [
    "print( \"/ \".join(keywords))"
   ]
  },
  {
   "cell_type": "code",
   "execution_count": 23,
   "metadata": {},
   "outputs": [
    {
     "name": "stdout",
     "output_type": "stream",
     "text": [
      "[('騰訊', 0.4939986571446281), ('億美元', 0.3951989257157025), ('社交', 0.3093349708995041), ('中國', 0.29639919428677686), ('網路', 0.29639919428677686), ('市值', 0.20644012014413224), ('臉書', 0.19759946285785124), ('週三', 0.19759946285785124), ('擁有', 0.19759946285785124), ('WeChat', 0.19759946285785124)]\n"
     ]
    }
   ],
   "source": [
    "print(repr(jieba.analyse.extract_tags(news_text, topK=10, withWeight=True)))"
   ]
  },
  {
   "cell_type": "code",
   "execution_count": 24,
   "metadata": {},
   "outputs": [
    {
     "name": "stdout",
     "output_type": "stream",
     "text": [
      "[('公司', 1.0), ('社交', 0.6574021419563566), ('全球', 0.5246582302144467), ('市值', 0.48807284741518053), ('平台', 0.4000994688199813), ('大增', 0.4000994688199813), ('全球性', 0.3972756938199799), ('去年同期', 0.3972756938199799), ('新高', 0.39188664939371903), ('臉書', 0.35668848255641067)]\n"
     ]
    }
   ],
   "source": [
    "print(repr(jieba.analyse.textrank(news_text, topK=10, withWeight=True)))"
   ]
  },
  {
   "cell_type": "code",
   "execution_count": 25,
   "metadata": {
    "collapsed": true
   },
   "outputs": [],
   "source": [
    "def index_of_keyword(sentences, keyword):\n",
    "    for i, s in enumerate(sentences):\n",
    "        if keyword in s:\n",
    "              return i\n",
    "    return -1"
   ]
  },
  {
   "cell_type": "code",
   "execution_count": 26,
   "metadata": {},
   "outputs": [
    {
     "data": {
      "text/plain": [
       "12"
      ]
     },
     "execution_count": 26,
     "metadata": {},
     "output_type": "execute_result"
    }
   ],
   "source": [
    "sentences = news_text.replace(\"\\n\",\"\").split(u\"。\")\n",
    "len(sentences)"
   ]
  },
  {
   "cell_type": "code",
   "execution_count": 28,
   "metadata": {},
   "outputs": [
    {
     "name": "stdout",
     "output_type": "stream",
     "text": [
      "過去一年，中國社交媒體與電玩遊戲大廠騰訊 (Tencent) 股價上漲逾一倍，公司市值已更為接近臉書的 5200 億美元。\n",
      "香港股市週三收盤後，騰訊市值約為 4700 億美元。\n",
      "臉書經營世界最受歡迎的社交網路，全球使用者逾 20 億人。\n",
      "該公司並擁有另外二家全球性的大型平台 Instagram 與 WhatsApp。\n",
      "騰訊的社交網路 WeChat 則擁有近 10 億使用者，主要係在中國。\n",
      "由於競爭對手 -- 如臉書與推特 -- 被排拒於中國境外，WeChat 在這全球人口最多的國家因而居於領導地位。\n",
      "但騰訊絕非僅靠社交網路吸引投資人。\n",
      "該公司同時也深耕了其他領域，包括手機遊戲，行動支付與音樂串流。\n",
      "諸多領域助使該公司今年獲利創下新高。\n",
      "香港週三下午，該公司公布上季獲利較去年同期大增約 70%，大幅高於分析師預估。\n",
      "騰訊市值正快速邁向 5000 億美元關卡，約六個月前，該公司市值僅 3000 億美元。\n",
      "。\n"
     ]
    }
   ],
   "source": [
    "for sentence in sentences:\n",
    "    print(sentence + u\"。\")"
   ]
  },
  {
   "cell_type": "code",
   "execution_count": 32,
   "metadata": {},
   "outputs": [
    {
     "data": {
      "text/plain": [
       "0"
      ]
     },
     "execution_count": 32,
     "metadata": {},
     "output_type": "execute_result"
    }
   ],
   "source": [
    "index_of_keyword(sentences,u\"騰訊\")"
   ]
  },
  {
   "cell_type": "code",
   "execution_count": 34,
   "metadata": {},
   "outputs": [
    {
     "name": "stdout",
     "output_type": "stream",
     "text": [
      "過去一年，中國社交媒體與電玩遊戲大廠騰訊 (Tencent) 股價上漲逾一倍，公司市值已更為接近臉書的 5200 億美元。\n"
     ]
    }
   ],
   "source": [
    "print(sentences[index_of_keyword(sentences,u\"騰訊\")]+u\"。\")"
   ]
  },
  {
   "cell_type": "code",
   "execution_count": 35,
   "metadata": {},
   "outputs": [
    {
     "data": {
      "text/plain": [
       "60"
      ]
     },
     "execution_count": 35,
     "metadata": {},
     "output_type": "execute_result"
    }
   ],
   "source": [
    "len(sentences[0])"
   ]
  },
  {
   "cell_type": "code",
   "execution_count": 36,
   "metadata": {
    "collapsed": true
   },
   "outputs": [],
   "source": [
    "s_index = []\n",
    "for keyword in keywords[:3]:\n",
    "    s_index.append(index_of_keyword(sentences,keyword))\n",
    "\n",
    "s_set = set(s_index)\n",
    "s_index = list(s_set)"
   ]
  },
  {
   "cell_type": "code",
   "execution_count": 37,
   "metadata": {
    "collapsed": true
   },
   "outputs": [],
   "source": [
    "summary = \"\"\n",
    "for i in s_index:\n",
    "    summary += sentences[i]+u\"。\""
   ]
  },
  {
   "cell_type": "code",
   "execution_count": 39,
   "metadata": {},
   "outputs": [
    {
     "name": "stdout",
     "output_type": "stream",
     "text": [
      "過去一年，中國社交媒體與電玩遊戲大廠騰訊 (Tencent) 股價上漲逾一倍，公司市值已更為接近臉書的 5200 億美元。\n"
     ]
    }
   ],
   "source": [
    "print(summary)"
   ]
  },
  {
   "cell_type": "code",
   "execution_count": null,
   "metadata": {
    "collapsed": true
   },
   "outputs": [],
   "source": []
  }
 ],
 "metadata": {
  "kernelspec": {
   "display_name": "Python 3",
   "language": "python",
   "name": "python3"
  },
  "language_info": {
   "codemirror_mode": {
    "name": "ipython",
    "version": 3
   },
   "file_extension": ".py",
   "mimetype": "text/x-python",
   "name": "python",
   "nbconvert_exporter": "python",
   "pygments_lexer": "ipython3",
   "version": "3.6.2"
  }
 },
 "nbformat": 4,
 "nbformat_minor": 2
}
